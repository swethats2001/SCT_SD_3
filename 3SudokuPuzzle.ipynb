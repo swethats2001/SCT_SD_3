{
 "cells": [
  {
   "cell_type": "code",
   "execution_count": 3,
   "id": "33f478ed-0f63-4d1c-8e25-4abf83f07910",
   "metadata": {},
   "outputs": [
    {
     "name": "stdout",
     "output_type": "stream",
     "text": [
      "Sudoku puzzle solved successfully:\n",
      "5 3 4 6 7 8 9 1 2\n",
      "6 7 2 1 9 5 3 4 8\n",
      "1 9 8 3 4 2 5 6 7\n",
      "8 5 9 7 6 1 4 2 3\n",
      "4 2 6 8 5 3 7 9 1\n",
      "7 1 3 9 2 4 8 5 6\n",
      "9 6 1 5 3 7 2 8 4\n",
      "2 8 7 4 1 9 6 3 5\n",
      "3 4 5 2 8 6 1 7 9\n"
     ]
    }
   ],
   "source": [
    "def print_grid(grid):\n",
    "    for row in grid:\n",
    "        print(\" \".join(str(num) if num != 0 else \".\" for num in row))\n",
    "\n",
    "\n",
    "def is_valid(grid, row, col, num):\n",
    "    # Check row\n",
    "    for x in range(9):\n",
    "        if grid[row][x] == num:\n",
    "            return False\n",
    "    \n",
    "    # Check column\n",
    "    for x in range(9):\n",
    "        if grid[x][col] == num:\n",
    "            return False\n",
    "    \n",
    "    # Check 3x3 sub-grid\n",
    "    start_row, start_col = 3 * (row // 3), 3 * (col // 3)\n",
    "    for i in range(3):\n",
    "        for j in range(3):\n",
    "            if grid[start_row + i][start_col + j] == num:\n",
    "                return False\n",
    "    \n",
    "    return True\n",
    "\n",
    "\n",
    "def solve_sudoku(grid):\n",
    "    for row in range(9):\n",
    "        for col in range(9):\n",
    "            if grid[row][col] == 0:  # Find an empty cell\n",
    "                for num in range(1, 10):  # Try numbers 1 to 9\n",
    "                    if is_valid(grid, row, col, num):\n",
    "                        grid[row][col] = num\n",
    "                        if solve_sudoku(grid):  # Recursive call\n",
    "                            return True\n",
    "                        grid[row][col] = 0  # Backtrack\n",
    "                return False  # No valid number found, trigger backtracking\n",
    "    return True\n",
    "\n",
    "\n",
    "# Example usage\n",
    "sudoku_grid = [\n",
    "    [5, 3, 0, 0, 7, 0, 0, 0, 0],\n",
    "    [6, 0, 0, 1, 9, 5, 0, 0, 0],\n",
    "    [0, 9, 8, 0, 0, 0, 0, 6, 0],\n",
    "    [8, 0, 0, 0, 6, 0, 0, 0, 3],\n",
    "    [4, 0, 0, 8, 0, 3, 0, 0, 1],\n",
    "    [7, 0, 0, 0, 2, 0, 0, 0, 6],\n",
    "    [0, 6, 0, 0, 0, 0, 2, 8, 0],\n",
    "    [0, 0, 0, 4, 1, 9, 0, 0, 5],\n",
    "    [0, 0, 0, 0, 8, 0, 0, 7, 9]\n",
    "]\n",
    "\n",
    "if solve_sudoku(sudoku_grid):\n",
    "    print(\"Sudoku puzzle solved successfully:\")\n",
    "    print_grid(sudoku_grid)\n",
    "else:\n",
    "    print(\"No solution exists for the given Sudoku puzzle.\")\n"
   ]
  },
  {
   "cell_type": "code",
   "execution_count": null,
   "id": "c369b292-9a61-43b3-9bc0-6d1c3f253442",
   "metadata": {},
   "outputs": [],
   "source": []
  }
 ],
 "metadata": {
  "kernelspec": {
   "display_name": "Python 3 (ipykernel)",
   "language": "python",
   "name": "python3"
  },
  "language_info": {
   "codemirror_mode": {
    "name": "ipython",
    "version": 3
   },
   "file_extension": ".py",
   "mimetype": "text/x-python",
   "name": "python",
   "nbconvert_exporter": "python",
   "pygments_lexer": "ipython3",
   "version": "3.12.7"
  }
 },
 "nbformat": 4,
 "nbformat_minor": 5
}
